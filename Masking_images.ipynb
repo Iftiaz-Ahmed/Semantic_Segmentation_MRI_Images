{
 "cells": [
  {
   "cell_type": "code",
   "execution_count": 2,
   "id": "49778978",
   "metadata": {},
   "outputs": [
    {
     "name": "stdout",
     "output_type": "stream",
     "text": [
      "Collecting opencv-python\n",
      "  Downloading opencv_python-4.9.0.80-cp37-abi3-win_amd64.whl (38.6 MB)\n",
      "     --------------------------------------- 38.6/38.6 MB 19.3 MB/s eta 0:00:00\n",
      "Requirement already satisfied: numpy>=1.19.3 in c:\\users\\acer\\appdata\\local\\programs\\python\\python310\\lib\\site-packages (from opencv-python) (1.23.4)\n",
      "Installing collected packages: opencv-python\n",
      "Successfully installed opencv-python-4.9.0.80\n",
      "Note: you may need to restart the kernel to use updated packages.\n"
     ]
    },
    {
     "name": "stderr",
     "output_type": "stream",
     "text": [
      "WARNING: Ignoring invalid distribution -atplotlib (c:\\users\\acer\\appdata\\local\\programs\\python\\python310\\lib\\site-packages)\n",
      "WARNING: Ignoring invalid distribution -atplotlib (c:\\users\\acer\\appdata\\local\\programs\\python\\python310\\lib\\site-packages)\n",
      "WARNING: Ignoring invalid distribution -atplotlib (c:\\users\\acer\\appdata\\local\\programs\\python\\python310\\lib\\site-packages)\n",
      "WARNING: Ignoring invalid distribution -atplotlib (c:\\users\\acer\\appdata\\local\\programs\\python\\python310\\lib\\site-packages)\n",
      "WARNING: Ignoring invalid distribution -atplotlib (c:\\users\\acer\\appdata\\local\\programs\\python\\python310\\lib\\site-packages)\n",
      "WARNING: Ignoring invalid distribution -atplotlib (c:\\users\\acer\\appdata\\local\\programs\\python\\python310\\lib\\site-packages)\n",
      "WARNING: Ignoring invalid distribution -atplotlib (c:\\users\\acer\\appdata\\local\\programs\\python\\python310\\lib\\site-packages)\n",
      "\n",
      "[notice] A new release of pip available: 22.3 -> 24.0\n",
      "[notice] To update, run: python.exe -m pip install --upgrade pip\n"
     ]
    }
   ],
   "source": [
    "pip install opencv-python"
   ]
  },
  {
   "cell_type": "code",
   "execution_count": 1,
   "id": "dba7bff9",
   "metadata": {},
   "outputs": [],
   "source": [
    "import os\n",
    "import cv2\n",
    "import numpy as np"
   ]
  },
  {
   "cell_type": "code",
   "execution_count": 2,
   "id": "762df651",
   "metadata": {},
   "outputs": [
    {
     "data": {
      "text/plain": [
       "'C:\\\\Users\\\\ACER\\\\Downloads\\\\Segmentation\\\\Codes'"
      ]
     },
     "execution_count": 2,
     "metadata": {},
     "output_type": "execute_result"
    }
   ],
   "source": [
    "current_directory  = os.getcwd()\n",
    "current_directory"
   ]
  },
  {
   "cell_type": "code",
   "execution_count": 24,
   "id": "dbb2f7f2",
   "metadata": {},
   "outputs": [],
   "source": [
    "def masking_images(original_images_dir, stripped_images_dir, masks_dir):\n",
    "    original_image_files = os.listdir(original_images_dir)\n",
    "    \n",
    "    # Iterate through each original image file\n",
    "    for original_image_file in original_image_files:\n",
    "        # Construct the paths to the original and stripped images\n",
    "        original_image_path = os.path.join(original_images_dir, original_image_file)\n",
    "        stripped_image_path = os.path.join(stripped_images_dir, original_image_file)\n",
    "\n",
    "        # Read the original and stripped images\n",
    "        original_image = cv2.imread(original_image_path)\n",
    "        stripped_image = cv2.imread(stripped_image_path)\n",
    "\n",
    "        # Convert the stripped image to grayscale\n",
    "        stripped_gray = cv2.cvtColor(stripped_image, cv2.COLOR_BGR2GRAY)\n",
    "\n",
    "        # Threshold the grayscale image to create the binary mask\n",
    "        _, mask = cv2.threshold(stripped_gray, 1, 255, cv2.THRESH_BINARY)\n",
    "\n",
    "        # Save the pseudo-mask\n",
    "        mask_filename = os.path.splitext(original_image_file)[0] + '.png'\n",
    "        mask_path = os.path.join(masks_dir, mask_filename)\n",
    "        cv2.imwrite(mask_path, mask)\n",
    "\n",
    "    print(f\"Masks saved\")   "
   ]
  },
  {
   "cell_type": "code",
   "execution_count": 25,
   "id": "4f7bc09e",
   "metadata": {},
   "outputs": [],
   "source": [
    "original_images_dir = current_directory + '/../dataset/Skull_Stripping/Before_3T/Ground Truth'\n",
    "stripped_images_dir = current_directory + '/../dataset/Skull_Stripping/After_3T/Ground Truth'\n",
    "masks_dir = current_directory + '/../dataset/3T_Mask/Ground Truth'"
   ]
  },
  {
   "cell_type": "code",
   "execution_count": 26,
   "id": "152bf264",
   "metadata": {},
   "outputs": [
    {
     "name": "stdout",
     "output_type": "stream",
     "text": [
      "Masks saved\n"
     ]
    }
   ],
   "source": [
    "masking_images(original_images_dir, stripped_images_dir, masks_dir)"
   ]
  },
  {
   "cell_type": "code",
   "execution_count": 27,
   "id": "a36525b1",
   "metadata": {},
   "outputs": [],
   "source": [
    "original_images_dir = current_directory + '/../dataset/Skull_Stripping/Before_3T/Predicted'\n",
    "stripped_images_dir = current_directory + '/../dataset/Skull_Stripping/After_3T/Predicted'\n",
    "masks_dir = current_directory + '/../dataset/3T_Mask/Predicted'"
   ]
  },
  {
   "cell_type": "code",
   "execution_count": 28,
   "id": "eb3d76b5",
   "metadata": {},
   "outputs": [
    {
     "name": "stdout",
     "output_type": "stream",
     "text": [
      "Masks saved\n"
     ]
    }
   ],
   "source": [
    "masking_images(original_images_dir, stripped_images_dir, masks_dir)"
   ]
  },
  {
   "cell_type": "markdown",
   "id": "d076ae24",
   "metadata": {},
   "source": [
    "Masks created for 7T images"
   ]
  },
  {
   "cell_type": "code",
   "execution_count": 29,
   "id": "86eca543",
   "metadata": {},
   "outputs": [],
   "source": [
    "original_images_dir = current_directory + '/../dataset/Skull_Stripping/Before_7T/Predicted'\n",
    "stripped_images_dir = current_directory + '/../dataset/Skull_Stripping/After_7T/Predicted'\n",
    "masks_dir = current_directory + '/../dataset/7T_Mask/Predicted'"
   ]
  },
  {
   "cell_type": "code",
   "execution_count": 30,
   "id": "3f0e4592",
   "metadata": {},
   "outputs": [
    {
     "name": "stdout",
     "output_type": "stream",
     "text": [
      "Masks saved\n"
     ]
    }
   ],
   "source": [
    "masking_images(original_images_dir, stripped_images_dir, masks_dir)"
   ]
  },
  {
   "cell_type": "code",
   "execution_count": 31,
   "id": "a56afb30",
   "metadata": {},
   "outputs": [],
   "source": [
    "original_images_dir = current_directory + '/../dataset/Skull_Stripping/Before_7T/Ground Truth'\n",
    "stripped_images_dir = current_directory + '/../dataset/Skull_Stripping/After_7T/Ground Truth'\n",
    "masks_dir = current_directory + '/../dataset/7T_Mask/Ground Truth'"
   ]
  },
  {
   "cell_type": "code",
   "execution_count": 32,
   "id": "410a5548",
   "metadata": {},
   "outputs": [
    {
     "name": "stdout",
     "output_type": "stream",
     "text": [
      "Masks saved\n"
     ]
    }
   ],
   "source": [
    "masking_images(original_images_dir, stripped_images_dir, masks_dir)"
   ]
  },
  {
   "cell_type": "code",
   "execution_count": null,
   "id": "3dbd131c",
   "metadata": {},
   "outputs": [],
   "source": []
  }
 ],
 "metadata": {
  "kernelspec": {
   "display_name": "Python 3 (ipykernel)",
   "language": "python",
   "name": "python3"
  },
  "language_info": {
   "codemirror_mode": {
    "name": "ipython",
    "version": 3
   },
   "file_extension": ".py",
   "mimetype": "text/x-python",
   "name": "python",
   "nbconvert_exporter": "python",
   "pygments_lexer": "ipython3",
   "version": "3.10.6"
  }
 },
 "nbformat": 4,
 "nbformat_minor": 5
}
